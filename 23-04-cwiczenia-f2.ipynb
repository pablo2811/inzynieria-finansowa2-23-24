{
 "cells": [
  {
   "cell_type": "markdown",
   "metadata": {},
   "source": [
    "## Dane"
   ]
  },
  {
   "cell_type": "code",
   "execution_count": 1,
   "metadata": {},
   "outputs": [
    {
     "data": {
      "text/html": [
       "<div>\n",
       "<style scoped>\n",
       "    .dataframe tbody tr th:only-of-type {\n",
       "        vertical-align: middle;\n",
       "    }\n",
       "\n",
       "    .dataframe tbody tr th {\n",
       "        vertical-align: top;\n",
       "    }\n",
       "\n",
       "    .dataframe thead th {\n",
       "        text-align: right;\n",
       "    }\n",
       "</style>\n",
       "<table border=\"1\" class=\"dataframe\">\n",
       "  <thead>\n",
       "    <tr style=\"text-align: right;\">\n",
       "      <th></th>\n",
       "      <th>Date</th>\n",
       "      <th>Days</th>\n",
       "      <th>ATM</th>\n",
       "      <th>25RR</th>\n",
       "      <th>10RR</th>\n",
       "      <th>25BF</th>\n",
       "      <th>10BF</th>\n",
       "      <th>10P</th>\n",
       "      <th>25P</th>\n",
       "      <th>10C</th>\n",
       "      <th>25C</th>\n",
       "    </tr>\n",
       "    <tr>\n",
       "      <th>Tenor</th>\n",
       "      <th></th>\n",
       "      <th></th>\n",
       "      <th></th>\n",
       "      <th></th>\n",
       "      <th></th>\n",
       "      <th></th>\n",
       "      <th></th>\n",
       "      <th></th>\n",
       "      <th></th>\n",
       "      <th></th>\n",
       "      <th></th>\n",
       "    </tr>\n",
       "  </thead>\n",
       "  <tbody>\n",
       "    <tr>\n",
       "      <th>ON</th>\n",
       "      <td>2024-03-06</td>\n",
       "      <td>1</td>\n",
       "      <td>0.0403</td>\n",
       "      <td>0.0038</td>\n",
       "      <td>0.0075</td>\n",
       "      <td>0.0012</td>\n",
       "      <td>0.0044</td>\n",
       "      <td>0.04095</td>\n",
       "      <td>0.03960</td>\n",
       "      <td>0.04845</td>\n",
       "      <td>0.04340</td>\n",
       "    </tr>\n",
       "    <tr>\n",
       "      <th>1W</th>\n",
       "      <td>2024-03-12</td>\n",
       "      <td>7</td>\n",
       "      <td>0.0452</td>\n",
       "      <td>0.0034</td>\n",
       "      <td>0.0068</td>\n",
       "      <td>0.0013</td>\n",
       "      <td>0.0049</td>\n",
       "      <td>0.04670</td>\n",
       "      <td>0.04480</td>\n",
       "      <td>0.05350</td>\n",
       "      <td>0.04820</td>\n",
       "    </tr>\n",
       "    <tr>\n",
       "      <th>2W</th>\n",
       "      <td>2024-03-19</td>\n",
       "      <td>14</td>\n",
       "      <td>0.0479</td>\n",
       "      <td>0.0052</td>\n",
       "      <td>0.0102</td>\n",
       "      <td>0.0015</td>\n",
       "      <td>0.0054</td>\n",
       "      <td>0.04820</td>\n",
       "      <td>0.04680</td>\n",
       "      <td>0.05840</td>\n",
       "      <td>0.05200</td>\n",
       "    </tr>\n",
       "    <tr>\n",
       "      <th>1M</th>\n",
       "      <td>2024-04-04</td>\n",
       "      <td>30</td>\n",
       "      <td>0.0497</td>\n",
       "      <td>0.0065</td>\n",
       "      <td>0.0126</td>\n",
       "      <td>0.0015</td>\n",
       "      <td>0.0057</td>\n",
       "      <td>0.04910</td>\n",
       "      <td>0.04795</td>\n",
       "      <td>0.06170</td>\n",
       "      <td>0.05445</td>\n",
       "    </tr>\n",
       "    <tr>\n",
       "      <th>2M</th>\n",
       "      <td>2024-05-02</td>\n",
       "      <td>58</td>\n",
       "      <td>0.0526</td>\n",
       "      <td>0.0087</td>\n",
       "      <td>0.0164</td>\n",
       "      <td>0.0017</td>\n",
       "      <td>0.0064</td>\n",
       "      <td>0.05080</td>\n",
       "      <td>0.04995</td>\n",
       "      <td>0.06720</td>\n",
       "      <td>0.05865</td>\n",
       "    </tr>\n",
       "    <tr>\n",
       "      <th>3M</th>\n",
       "      <td>2024-06-05</td>\n",
       "      <td>92</td>\n",
       "      <td>0.0534</td>\n",
       "      <td>0.0093</td>\n",
       "      <td>0.0178</td>\n",
       "      <td>0.0021</td>\n",
       "      <td>0.0071</td>\n",
       "      <td>0.05160</td>\n",
       "      <td>0.05085</td>\n",
       "      <td>0.06940</td>\n",
       "      <td>0.06015</td>\n",
       "    </tr>\n",
       "    <tr>\n",
       "      <th>6M</th>\n",
       "      <td>2024-09-05</td>\n",
       "      <td>184</td>\n",
       "      <td>0.0567</td>\n",
       "      <td>0.0124</td>\n",
       "      <td>0.0234</td>\n",
       "      <td>0.0027</td>\n",
       "      <td>0.0081</td>\n",
       "      <td>0.05310</td>\n",
       "      <td>0.05320</td>\n",
       "      <td>0.07650</td>\n",
       "      <td>0.06560</td>\n",
       "    </tr>\n",
       "    <tr>\n",
       "      <th>9M</th>\n",
       "      <td>2024-12-05</td>\n",
       "      <td>275</td>\n",
       "      <td>0.0589</td>\n",
       "      <td>0.0131</td>\n",
       "      <td>0.0244</td>\n",
       "      <td>0.0033</td>\n",
       "      <td>0.0096</td>\n",
       "      <td>0.05630</td>\n",
       "      <td>0.05565</td>\n",
       "      <td>0.08070</td>\n",
       "      <td>0.06875</td>\n",
       "    </tr>\n",
       "    <tr>\n",
       "      <th>1Y</th>\n",
       "      <td>2025-03-05</td>\n",
       "      <td>365</td>\n",
       "      <td>0.0595</td>\n",
       "      <td>0.0135</td>\n",
       "      <td>0.0255</td>\n",
       "      <td>0.0035</td>\n",
       "      <td>0.0098</td>\n",
       "      <td>0.05655</td>\n",
       "      <td>0.05625</td>\n",
       "      <td>0.08205</td>\n",
       "      <td>0.06975</td>\n",
       "    </tr>\n",
       "    <tr>\n",
       "      <th>2Y</th>\n",
       "      <td>2026-03-05</td>\n",
       "      <td>730</td>\n",
       "      <td>0.0596</td>\n",
       "      <td>0.0150</td>\n",
       "      <td>0.0296</td>\n",
       "      <td>0.0045</td>\n",
       "      <td>0.0122</td>\n",
       "      <td>0.05700</td>\n",
       "      <td>0.05660</td>\n",
       "      <td>0.08660</td>\n",
       "      <td>0.07160</td>\n",
       "    </tr>\n",
       "    <tr>\n",
       "      <th>3Y</th>\n",
       "      <td>2027-03-04</td>\n",
       "      <td>1094</td>\n",
       "      <td>0.0596</td>\n",
       "      <td>0.0162</td>\n",
       "      <td>0.0307</td>\n",
       "      <td>0.0045</td>\n",
       "      <td>0.0134</td>\n",
       "      <td>0.05765</td>\n",
       "      <td>0.05600</td>\n",
       "      <td>0.08835</td>\n",
       "      <td>0.07220</td>\n",
       "    </tr>\n",
       "    <tr>\n",
       "      <th>5Y</th>\n",
       "      <td>2029-03-05</td>\n",
       "      <td>1826</td>\n",
       "      <td>0.0595</td>\n",
       "      <td>0.0167</td>\n",
       "      <td>0.0321</td>\n",
       "      <td>0.0047</td>\n",
       "      <td>0.0138</td>\n",
       "      <td>0.05725</td>\n",
       "      <td>0.05585</td>\n",
       "      <td>0.08935</td>\n",
       "      <td>0.07255</td>\n",
       "    </tr>\n",
       "  </tbody>\n",
       "</table>\n",
       "</div>"
      ],
      "text/plain": [
       "            Date  Days     ATM    25RR    10RR    25BF    10BF      10P  \\\n",
       "Tenor                                                                     \n",
       "ON    2024-03-06     1  0.0403  0.0038  0.0075  0.0012  0.0044  0.04095   \n",
       "1W    2024-03-12     7  0.0452  0.0034  0.0068  0.0013  0.0049  0.04670   \n",
       "2W    2024-03-19    14  0.0479  0.0052  0.0102  0.0015  0.0054  0.04820   \n",
       "1M    2024-04-04    30  0.0497  0.0065  0.0126  0.0015  0.0057  0.04910   \n",
       "2M    2024-05-02    58  0.0526  0.0087  0.0164  0.0017  0.0064  0.05080   \n",
       "3M    2024-06-05    92  0.0534  0.0093  0.0178  0.0021  0.0071  0.05160   \n",
       "6M    2024-09-05   184  0.0567  0.0124  0.0234  0.0027  0.0081  0.05310   \n",
       "9M    2024-12-05   275  0.0589  0.0131  0.0244  0.0033  0.0096  0.05630   \n",
       "1Y    2025-03-05   365  0.0595  0.0135  0.0255  0.0035  0.0098  0.05655   \n",
       "2Y    2026-03-05   730  0.0596  0.0150  0.0296  0.0045  0.0122  0.05700   \n",
       "3Y    2027-03-04  1094  0.0596  0.0162  0.0307  0.0045  0.0134  0.05765   \n",
       "5Y    2029-03-05  1826  0.0595  0.0167  0.0321  0.0047  0.0138  0.05725   \n",
       "\n",
       "           25P      10C      25C  \n",
       "Tenor                             \n",
       "ON     0.03960  0.04845  0.04340  \n",
       "1W     0.04480  0.05350  0.04820  \n",
       "2W     0.04680  0.05840  0.05200  \n",
       "1M     0.04795  0.06170  0.05445  \n",
       "2M     0.04995  0.06720  0.05865  \n",
       "3M     0.05085  0.06940  0.06015  \n",
       "6M     0.05320  0.07650  0.06560  \n",
       "9M     0.05565  0.08070  0.06875  \n",
       "1Y     0.05625  0.08205  0.06975  \n",
       "2Y     0.05660  0.08660  0.07160  \n",
       "3Y     0.05600  0.08835  0.07220  \n",
       "5Y     0.05585  0.08935  0.07255  "
      ]
     },
     "execution_count": 1,
     "metadata": {},
     "output_type": "execute_result"
    }
   ],
   "source": [
    "import pandas as pd\n",
    "\n",
    "smile = pd.read_excel('ImpVol.xlsx', index_col='Tenor')\n",
    "smile[['ATM', '25RR', '10RR', '25BF', '10BF']] /= 100\n",
    "smile['10P'] = smile['ATM'] - smile['10RR'] / 2 + smile['10BF']\n",
    "smile['25P'] = smile['ATM'] - smile['25RR'] / 2 + smile['25BF']\n",
    "smile['10C'] = smile['ATM'] + smile['10RR'] / 2 + smile['10BF']\n",
    "smile['25C'] = smile['ATM'] + smile['25RR'] / 2 + smile['25BF']\n",
    "\n",
    "smile"
   ]
  },
  {
   "cell_type": "code",
   "execution_count": 2,
   "metadata": {},
   "outputs": [
    {
     "data": {
      "text/plain": [
       "25RR    0.0093\n",
       "ATM     0.0534\n",
       "25BF    0.0021\n",
       "Name: 3M, dtype: object"
      ]
     },
     "execution_count": 2,
     "metadata": {},
     "output_type": "execute_result"
    }
   ],
   "source": [
    "vols = smile.loc['3M'][['25RR', 'ATM', '25BF']]\n",
    "vols"
   ]
  },
  {
   "cell_type": "code",
   "execution_count": 3,
   "metadata": {},
   "outputs": [],
   "source": [
    "FXspot = 4.3440\n",
    "T = 92 / 365\n",
    "df_pln_T = 0.99868\n",
    "df_eur_T = 0.99373\n",
    "prem_incl = \"std\"\n",
    "spot_fwd = \"fwd\""
   ]
  },
  {
   "cell_type": "markdown",
   "metadata": {},
   "source": [
    "## Wyliczenie strike'ów i wyceny STGL BS dla delty 25%"
   ]
  },
  {
   "cell_type": "code",
   "execution_count": 4,
   "metadata": {},
   "outputs": [
    {
     "data": {
      "text/plain": [
       "(4.4061829224893785, 4.243638587967048)"
      ]
     },
     "execution_count": 4,
     "metadata": {},
     "output_type": "execute_result"
    }
   ],
   "source": [
    "import if2\n",
    "\n",
    "# sigma - 25STGL (dlatego suma zmienności)\n",
    "omega, delta, sigma = 1, 0.25, vols['ATM'] + vols['25BF']\n",
    "\n",
    "K_25C_STGL = if2.StrikeFromDelta(\n",
    "    spot_fwd, prem_incl, 1, delta, FXspot, sigma, df_pln_T, df_eur_T, T\n",
    ")\n",
    "\n",
    "K_25P_STGL = if2.StrikeFromDelta(\n",
    "    spot_fwd, prem_incl, -1, -delta, FXspot, sigma, df_pln_T, df_eur_T, T\n",
    ")\n",
    "\n",
    "K_25C_STGL, K_25P_STGL"
   ]
  },
  {
   "cell_type": "code",
   "execution_count": 5,
   "metadata": {},
   "outputs": [
    {
     "data": {
      "text/plain": [
       "0.03588710342116985"
      ]
     },
     "execution_count": 5,
     "metadata": {},
     "output_type": "execute_result"
    }
   ],
   "source": [
    "V_25STGL = if2.BS_value(FXspot, df_eur_T, df_pln_T, T, sigma, 1, K_25C_STGL, 1) + if2.BS_value(FXspot, df_eur_T, df_pln_T, T, sigma, -1, K_25P_STGL, 1)\n",
    "V_25STGL"
   ]
  },
  {
   "cell_type": "code",
   "execution_count": 6,
   "metadata": {},
   "outputs": [
    {
     "data": {
      "text/plain": [
       "0.06468212097786452"
      ]
     },
     "execution_count": 6,
     "metadata": {},
     "output_type": "execute_result"
    }
   ],
   "source": [
    "import numpy as np\n",
    "\n",
    "# Interpolowana wartość zmienność VV zalezna od zmiennosc BF\n",
    "def interpolated_volatility_vv(K, sigma_atm, sigma_rr, sigma_bf, FXspot, df_eur_T, df_pln_T, T):\n",
    "    strike_atm = if2.StrikeFromDelta(\"fwd\", \"std\", 1, 0.5, FXspot, sigma_atm, df_pln_T, df_eur_T, T)\n",
    "\n",
    "    sigma_25c = sigma_atm + 0.5 * sigma_rr + sigma_bf\n",
    "    strike_25c = if2.StrikeFromDelta(\"fwd\", \"std\", 1, 0.25, FXspot, sigma_25c, df_pln_T, df_eur_T, T)\n",
    "    \n",
    "    sigma_25p = sigma_atm - 0.5 * sigma_rr + sigma_bf\n",
    "    strike_25p = if2.StrikeFromDelta(\"fwd\", \"std\", -1, -0.25, FXspot, sigma_25p, df_pln_T, df_eur_T, T)\n",
    "    \n",
    "    x1_ = ((np.log(K/strike_atm)) * np.log(K/strike_25c)) / (np.log(strike_25p/strike_atm) * np.log(strike_25p/strike_25c))\n",
    "    x2_ = ((np.log(K/strike_25p)) * np.log(K/strike_25c)) / (np.log(strike_atm/strike_25p) * np.log(strike_atm/strike_25c))\n",
    "    x3_ = ((np.log(K/strike_25p)) * np.log(K/strike_atm)) / (np.log(strike_25c/strike_25p) * np.log(strike_25c/strike_atm))\n",
    "    \n",
    "    vol = x1_ * sigma_25p + x2_ * sigma_atm + x3_ * sigma_25c\n",
    "\n",
    "    return vol\n",
    "\n",
    "K, sigma_atm, sigma_rr, sigma_bf = 4, vols['ATM'], vols['25RR'], vols['25BF']\n",
    "interpolated_volatility_vv(K, sigma_atm, sigma_rr, sigma_bf, FXspot, df_eur_T, df_pln_T, T)"
   ]
  },
  {
   "cell_type": "code",
   "execution_count": 7,
   "metadata": {},
   "outputs": [
    {
     "data": {
      "text/plain": [
       "-0.0004265257243876164"
      ]
     },
     "execution_count": 7,
     "metadata": {},
     "output_type": "execute_result"
    }
   ],
   "source": [
    "def value_stgl(K_25P_STGL, K_25C_STGL, sigma_atm, sigma_rr, sigma_bf, FXspot, df_eur_T, df_pln_T, T):\n",
    "    sigma_25p_stgl = interpolated_volatility_vv(K_25P_STGL, sigma_atm, sigma_rr, sigma_bf, FXspot, df_eur_T, df_pln_T, T)\n",
    "    sigma_25c_stgl = interpolated_volatility_vv(K_25C_STGL, sigma_atm, sigma_rr, sigma_bf, FXspot, df_eur_T, df_pln_T, T)\n",
    "    \n",
    "    value_25p_stgl = if2.BS_value(FXspot, df_eur_T, df_pln_T, T, sigma_25p_stgl, -1, K_25P_STGL, 1)\n",
    "    value_25c_stgl = if2.BS_value(FXspot, df_eur_T, df_pln_T, T, sigma_25c_stgl, 1, K_25C_STGL, 1)\n",
    "    \n",
    "    return value_25p_stgl + value_25c_stgl\n",
    "    \n",
    "value_stgl(K_25P_STGL, K_25C_STGL, sigma_atm, sigma_rr, sigma_bf, FXspot, df_eur_T, df_pln_T, T) - V_25STGL"
   ]
  },
  {
   "cell_type": "code",
   "execution_count": 8,
   "metadata": {},
   "outputs": [
    {
     "data": {
      "text/plain": [
       "[<matplotlib.lines.Line2D at 0x17a2b0250>]"
      ]
     },
     "execution_count": 8,
     "metadata": {},
     "output_type": "execute_result"
    },
    {
     "data": {
      "image/png": "[encoded data removed]",
      "text/plain": [
       "<Figure size 640x480 with 1 Axes>"
      ]
     },
     "metadata": {},
     "output_type": "display_data"
    }
   ],
   "source": [
    "import matplotlib.pyplot as plt\n",
    "\n",
    "sigmas_bf = np.linspace(0, 0.005, 100)\n",
    "plt.plot(sigmas_bf, value_stgl(K_25P_STGL, K_25C_STGL, sigma_atm, sigma_rr, sigmas_bf, FXspot, df_eur_T, df_pln_T, T) - V_25STGL)"
   ]
  },
  {
   "cell_type": "code",
   "execution_count": 9,
   "metadata": {},
   "outputs": [
    {
     "data": {
      "text/plain": [
       "<matplotlib.lines.Line2D at 0x17a3275b0>"
      ]
     },
     "execution_count": 9,
     "metadata": {},
     "output_type": "execute_result"
    },
    {
     "data": {
      "image/png": "[encoded data removed]",
      "text/plain": [
       "<Figure size 640x480 with 1 Axes>"
      ]
     },
     "metadata": {},
     "output_type": "display_data"
    }
   ],
   "source": [
    "import scipy.optimize as optimize\n",
    "\n",
    "def calculate_sigma_bf(K_25P_STGL, K_25C_STGL, sigma_atm, sigma_rr, FXspot, df_eur_T, df_pln_T, T, V_25STGL):\n",
    "    def func(sigma_bf):\n",
    "        return value_stgl(K_25P_STGL, K_25C_STGL, sigma_atm, sigma_rr, sigma_bf, FXspot, df_eur_T, df_pln_T, T) - V_25STGL\n",
    "    sigma_bf = optimize.newton(func, 0.003)\n",
    "    return sigma_bf\n",
    "    \n",
    "plt.scatter(calculate_sigma_bf(K_25P_STGL, K_25C_STGL, sigma_atm, sigma_rr, FXspot, df_eur_T, df_pln_T, T, V_25STGL), 0)\n",
    "plt.plot(sigmas_bf, value_stgl(K_25P_STGL, K_25C_STGL, sigma_atm, sigma_rr, sigmas_bf, FXspot, df_eur_T, df_pln_T, T) - V_25STGL)\n",
    "plt.axhline(y=0)"
   ]
  },
  {
   "cell_type": "code",
   "execution_count": 10,
   "metadata": {},
   "outputs": [
    {
     "data": {
      "text/plain": [
       "<matplotlib.legend.Legend at 0x17a325c00>"
      ]
     },
     "execution_count": 10,
     "metadata": {},
     "output_type": "execute_result"
    },
    {
     "data": {
      "image/png": "[encoded data removed]",
      "text/plain": [
       "<Figure size 640x480 with 1 Axes>"
      ]
     },
     "metadata": {},
     "output_type": "display_data"
    }
   ],
   "source": [
    "Ks = np.linspace(FXspot*0.9, FXspot*1.1, 100)\n",
    "vols_before_calibration = interpolated_volatility_vv(Ks, sigma_atm, sigma_rr, sigma_bf, FXspot, df_eur_T, df_pln_T, T)\n",
    "\n",
    "sigma_bf_calibrated = calculate_sigma_bf(K_25P_STGL, K_25C_STGL, sigma_atm, sigma_rr, FXspot, df_eur_T, df_pln_T, T, V_25STGL)\n",
    "vols_after_calibration = interpolated_volatility_vv(Ks, sigma_atm, sigma_rr, sigma_bf_calibrated, FXspot, df_eur_T, df_pln_T, T)\n",
    "\n",
    "plt.plot(Ks, vols_before_calibration, label='Implied smile before calibration')\n",
    "plt.plot(Ks, vols_after_calibration, label='Implied smile after calibration')\n",
    "plt.legend()"
   ]
  },
  {
   "cell_type": "code",
   "execution_count": 129,
   "metadata": {},
   "outputs": [
    {
     "data": {
      "text/plain": [
       "533.5"
      ]
     },
     "execution_count": 129,
     "metadata": {},
     "output_type": "execute_result"
    }
   ],
   "source": [
    "import holidays as h\n",
    "\n",
    "import datetime\n",
    "start = datetime.date(2023, 1, 1)\n",
    "end = datetime.date(2024, 12, 31)\n",
    "\n",
    "# Dodać dane z dni \"specjalnych\"\n",
    "pl_fin_events = list(pd.read_excel('fin_events.xlsx', sheet_name='PL')['Date'])\n",
    "eu_fin_events = list(pd.read_excel('fin_events.xlsx', sheet_name='EU')['Date'])\n",
    "\n",
    "def get_number_of_days(start, end):\n",
    "\n",
    "    dates = pd.date_range(start, end)\n",
    "    num_days = 0\n",
    "    prefix_sum_days = []\n",
    "    \n",
    "    for day in dates:\n",
    "        year = day.year\n",
    "        poland_holidays = h.Poland(year)\n",
    "        euro_holidays = h.EuropeanCentralBank(year)\n",
    "        is_poland_workday = float(not (day in poland_holidays.keys() or day.weekday() > 4)) * 0.5\n",
    "        is_euro_workday = float(not (day in euro_holidays.keys() or day.weekday() > 4)) * 0.5\n",
    "        num_days += is_poland_workday + is_euro_workday + 0.25 * float(day in pl_fin_events) + \\\n",
    "        0.25 * float(day in eu_fin_events)\n",
    "        prefix_sum_days.append(num_days)\n",
    "\n",
    "    return num_days, prefix_sum_days, dates\n",
    "\n",
    "num_days, prefix_sum_days, dates = get_number_of_days(start, end)\n",
    "weights_df = pd.DataFrame({'prefix_sum_days': prefix_sum_days, 'dates': dates})\n",
    "num_days"
   ]
  },
  {
   "cell_type": "code",
   "execution_count": 130,
   "metadata": {},
   "outputs": [
    {
     "data": {
      "text/plain": [
       "4.0"
      ]
     },
     "execution_count": 130,
     "metadata": {},
     "output_type": "execute_result"
    }
   ],
   "source": [
    "def num_trading_days(date1, date2, weights_df):\n",
    "    date1 = pd.to_datetime(date1 - datetime.timedelta(days=1))\n",
    "    date2 = pd.to_datetime(date2 - datetime.timedelta(days=1))\n",
    "    prefix_sum_days = list(weights_df[(weights_df['dates'] >= date1) & (weights_df['dates'] <= date2)]['prefix_sum_days'])\n",
    "    return prefix_sum_days[-1] - prefix_sum_days[0]\n",
    "\n",
    "start = datetime.date(2024, 4, 30)\n",
    "end = datetime.date(2024, 5, 6)\n",
    "num_trading_days(start, end, weights_df)"
   ]
  },
  {
   "cell_type": "code",
   "execution_count": 135,
   "metadata": {},
   "outputs": [
    {
     "name": "stderr",
     "output_type": "stream",
     "text": [
      "/var/folders/j8/hkm1dd710bdccwg_cxjfm8780000gn/T/ipykernel_83375/418951884.py:18: FutureWarning: Series.__getitem__ treating keys as positions is deprecated. In a future version, integer keys will always be treated as labels (consistent with DataFrame behavior). To access a value by position, use `ser.iloc[pos]`\n",
      "  closest_before = days[idx - 1]\n",
      "/var/folders/j8/hkm1dd710bdccwg_cxjfm8780000gn/T/ipykernel_83375/418951884.py:23: FutureWarning: Series.__getitem__ treating keys as positions is deprecated. In a future version, integer keys will always be treated as labels (consistent with DataFrame behavior). To access a value by position, use `ser.iloc[pos]`\n",
      "  closest_after = days[idx]\n"
     ]
    },
    {
     "data": {
      "text/plain": [
       "<matplotlib.collections.PathCollection at 0x149962c20>"
      ]
     },
     "execution_count": 135,
     "metadata": {},
     "output_type": "execute_result"
    },
    {
     "data": {
      "image/png": "[encoded data removed]",
      "text/plain": [
       "<Figure size 640x480 with 1 Axes>"
      ]
     },
     "metadata": {},
     "output_type": "display_data"
    }
   ],
   "source": [
    "# Interpolacja zmienności po czasie, kolumna\n",
    "def interpolate_sigma_along_time(t1, sigma1, t2, sigma2, t):\n",
    "    if t <= t1:\n",
    "        return sigma1\n",
    "    elif t >= t2:\n",
    "        return sigma2\n",
    "    else:\n",
    "        tau = (t - t1)/(t2 - t1)\n",
    "        inter_vol = np.sqrt((sigma1**2 * t1 + tau * (sigma2**2 * t2 - sigma1**2 * t1))/t)\n",
    "        return inter_vol\n",
    "\n",
    "def find_t1_t2(t, days):\n",
    "    # t = liczba dni do wygaszenia\n",
    "    # days = dni do wygaszenia opcji\n",
    "    idx = np.searchsorted(days, t, side='left')\n",
    "    \n",
    "    if idx > 0:\n",
    "        closest_before = days[idx - 1]\n",
    "    else:\n",
    "        closest_before = None\n",
    "\n",
    "    if idx < len(days):\n",
    "        closest_after = days[idx]\n",
    "    else:\n",
    "        closest_after = None\n",
    "\n",
    "    return closest_before, closest_after\n",
    "\n",
    "def find_date1_date2(t1, t2, data):\n",
    "    return data[data['Days'] == t1].iloc[0], data[data['Days'] == t2].iloc[0]\n",
    "\n",
    "def interpolate_sigma(t, data, holidays, vol_type):\n",
    "    # t is days to expiry\n",
    "    # data = volatility data\n",
    "    # holidays = holiday dates\n",
    "    # vol_type = 'ATM', '10P', ...\n",
    "    t1, t2 = find_t1_t2(t, data['Days'])\n",
    "    data1, data2 = find_date1_date2(t1, t2, data)\n",
    "    date = data1['Date'] + datetime.timedelta(days=int(t-t1))\n",
    "    start_date = data.iloc[0]['Date'] - datetime.timedelta(days=int(data.iloc[0]['Days']))\n",
    "    t1 = num_trading_days(start_date, data1['Date'], holidays)\n",
    "    t2 = num_trading_days(start_date, data2['Date'], holidays)\n",
    "    t = num_trading_days(start_date, date, holidays)\n",
    "    \n",
    "    return interpolate_sigma_along_time(t1, data1[vol_type], t2, data2[vol_type], t)\n",
    "    \n",
    "\n",
    "\n",
    "t = 46\n",
    "vol_type = 'ATM'\n",
    "volatlities = []\n",
    "for t in range(2, 1000):\n",
    "    volatlities.append(interpolate_sigma(t, smile, weights_df, vol_type))\n",
    "\n",
    "plt.plot(list(range(2, 1000)), volatlities)\n",
    "plt.scatter(x=smile['Days'].iloc[:10], y=smile['ATM'].iloc[:10])"
   ]
  },
  {
   "cell_type": "code",
   "execution_count": null,
   "metadata": {},
   "outputs": [],
   "source": []
  }
 ],
 "metadata": {
  "kernelspec": {
   "display_name": "deepsenseai",
   "language": "python",
   "name": "python3"
  },
  "language_info": {
   "codemirror_mode": {
    "name": "ipython",
    "version": 3
   },
   "file_extension": ".py",
   "mimetype": "text/x-python",
   "name": "python",
   "nbconvert_exporter": "python",
   "pygments_lexer": "ipython3",
   "version": "3.10.13"
  }
 },
 "nbformat": 4,
 "nbformat_minor": 2
}
