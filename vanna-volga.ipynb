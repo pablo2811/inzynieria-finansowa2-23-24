{
 "cells": [
  {
   "cell_type": "code",
   "execution_count": 5,
   "metadata": {},
   "outputs": [],
   "source": [
    "import numpy as np\n",
    "import if2 as if2\n",
    "from scipy.stats import norm\n",
    "from scipy.interpolate import CubicSpline\n",
    "import matplotlib.pyplot as plt\n",
    "import pandas as pd"
   ]
  },
  {
   "cell_type": "code",
   "execution_count": 6,
   "metadata": {},
   "outputs": [],
   "source": [
    "FXspot = 4.3440\n",
    "T = 92 / 365\n",
    "df_pln_T = 0.99868\n",
    "df_eur_T = 0.99373\n",
    "prem_incl = \"std\"\n",
    "spot_fwd = \"fwd\"\n",
    "\n"
   ]
  },
  {
   "cell_type": "code",
   "execution_count": 7,
   "metadata": {},
   "outputs": [],
   "source": [
    "smile = pd.read_excel('ImpVol.xlsx', index_col='Tenor')"
   ]
  },
  {
   "cell_type": "code",
   "execution_count": 8,
   "metadata": {},
   "outputs": [],
   "source": [
    "smile[['ATM', '25RR', '10RR', '25BF', '10BF']] /= 100"
   ]
  },
  {
   "cell_type": "code",
   "execution_count": 9,
   "metadata": {},
   "outputs": [],
   "source": [
    "smile['10P'] = smile['ATM'] - smile['10RR'] / 2 + smile['10BF']\n",
    "smile['25P'] = smile['ATM'] - smile['25RR'] / 2 + smile['25BF']\n",
    "smile['10C'] = smile['ATM'] + smile['10RR'] / 2 + smile['10BF']\n",
    "smile['25C'] = smile['ATM'] + smile['25RR'] / 2 + smile['25BF']"
   ]
  },
  {
   "cell_type": "code",
   "execution_count": 10,
   "metadata": {},
   "outputs": [
    {
     "data": {
      "text/html": [
       "<div>\n",
       "<style scoped>\n",
       "    .dataframe tbody tr th:only-of-type {\n",
       "        vertical-align: middle;\n",
       "    }\n",
       "\n",
       "    .dataframe tbody tr th {\n",
       "        vertical-align: top;\n",
       "    }\n",
       "\n",
       "    .dataframe thead th {\n",
       "        text-align: right;\n",
       "    }\n",
       "</style>\n",
       "<table border=\"1\" class=\"dataframe\">\n",
       "  <thead>\n",
       "    <tr style=\"text-align: right;\">\n",
       "      <th></th>\n",
       "      <th>Date</th>\n",
       "      <th>Days</th>\n",
       "      <th>ATM</th>\n",
       "      <th>25RR</th>\n",
       "      <th>10RR</th>\n",
       "      <th>25BF</th>\n",
       "      <th>10BF</th>\n",
       "      <th>10P</th>\n",
       "      <th>25P</th>\n",
       "      <th>10C</th>\n",
       "      <th>25C</th>\n",
       "    </tr>\n",
       "    <tr>\n",
       "      <th>Tenor</th>\n",
       "      <th></th>\n",
       "      <th></th>\n",
       "      <th></th>\n",
       "      <th></th>\n",
       "      <th></th>\n",
       "      <th></th>\n",
       "      <th></th>\n",
       "      <th></th>\n",
       "      <th></th>\n",
       "      <th></th>\n",
       "      <th></th>\n",
       "    </tr>\n",
       "  </thead>\n",
       "  <tbody>\n",
       "    <tr>\n",
       "      <th>ON</th>\n",
       "      <td>2024-03-06</td>\n",
       "      <td>1</td>\n",
       "      <td>0.0403</td>\n",
       "      <td>0.0038</td>\n",
       "      <td>0.0075</td>\n",
       "      <td>0.0012</td>\n",
       "      <td>0.0044</td>\n",
       "      <td>0.04095</td>\n",
       "      <td>0.03960</td>\n",
       "      <td>0.04845</td>\n",
       "      <td>0.04340</td>\n",
       "    </tr>\n",
       "    <tr>\n",
       "      <th>1W</th>\n",
       "      <td>2024-03-12</td>\n",
       "      <td>7</td>\n",
       "      <td>0.0452</td>\n",
       "      <td>0.0034</td>\n",
       "      <td>0.0068</td>\n",
       "      <td>0.0013</td>\n",
       "      <td>0.0049</td>\n",
       "      <td>0.04670</td>\n",
       "      <td>0.04480</td>\n",
       "      <td>0.05350</td>\n",
       "      <td>0.04820</td>\n",
       "    </tr>\n",
       "    <tr>\n",
       "      <th>2W</th>\n",
       "      <td>2024-03-19</td>\n",
       "      <td>14</td>\n",
       "      <td>0.0479</td>\n",
       "      <td>0.0052</td>\n",
       "      <td>0.0102</td>\n",
       "      <td>0.0015</td>\n",
       "      <td>0.0054</td>\n",
       "      <td>0.04820</td>\n",
       "      <td>0.04680</td>\n",
       "      <td>0.05840</td>\n",
       "      <td>0.05200</td>\n",
       "    </tr>\n",
       "    <tr>\n",
       "      <th>1M</th>\n",
       "      <td>2024-04-04</td>\n",
       "      <td>30</td>\n",
       "      <td>0.0497</td>\n",
       "      <td>0.0065</td>\n",
       "      <td>0.0126</td>\n",
       "      <td>0.0015</td>\n",
       "      <td>0.0057</td>\n",
       "      <td>0.04910</td>\n",
       "      <td>0.04795</td>\n",
       "      <td>0.06170</td>\n",
       "      <td>0.05445</td>\n",
       "    </tr>\n",
       "    <tr>\n",
       "      <th>2M</th>\n",
       "      <td>2024-05-02</td>\n",
       "      <td>58</td>\n",
       "      <td>0.0526</td>\n",
       "      <td>0.0087</td>\n",
       "      <td>0.0164</td>\n",
       "      <td>0.0017</td>\n",
       "      <td>0.0064</td>\n",
       "      <td>0.05080</td>\n",
       "      <td>0.04995</td>\n",
       "      <td>0.06720</td>\n",
       "      <td>0.05865</td>\n",
       "    </tr>\n",
       "    <tr>\n",
       "      <th>3M</th>\n",
       "      <td>2024-06-05</td>\n",
       "      <td>92</td>\n",
       "      <td>0.0534</td>\n",
       "      <td>0.0093</td>\n",
       "      <td>0.0178</td>\n",
       "      <td>0.0021</td>\n",
       "      <td>0.0071</td>\n",
       "      <td>0.05160</td>\n",
       "      <td>0.05085</td>\n",
       "      <td>0.06940</td>\n",
       "      <td>0.06015</td>\n",
       "    </tr>\n",
       "    <tr>\n",
       "      <th>6M</th>\n",
       "      <td>2024-09-05</td>\n",
       "      <td>184</td>\n",
       "      <td>0.0567</td>\n",
       "      <td>0.0124</td>\n",
       "      <td>0.0234</td>\n",
       "      <td>0.0027</td>\n",
       "      <td>0.0081</td>\n",
       "      <td>0.05310</td>\n",
       "      <td>0.05320</td>\n",
       "      <td>0.07650</td>\n",
       "      <td>0.06560</td>\n",
       "    </tr>\n",
       "    <tr>\n",
       "      <th>9M</th>\n",
       "      <td>2024-12-05</td>\n",
       "      <td>275</td>\n",
       "      <td>0.0589</td>\n",
       "      <td>0.0131</td>\n",
       "      <td>0.0244</td>\n",
       "      <td>0.0033</td>\n",
       "      <td>0.0096</td>\n",
       "      <td>0.05630</td>\n",
       "      <td>0.05565</td>\n",
       "      <td>0.08070</td>\n",
       "      <td>0.06875</td>\n",
       "    </tr>\n",
       "    <tr>\n",
       "      <th>1Y</th>\n",
       "      <td>2025-03-05</td>\n",
       "      <td>365</td>\n",
       "      <td>0.0595</td>\n",
       "      <td>0.0135</td>\n",
       "      <td>0.0255</td>\n",
       "      <td>0.0035</td>\n",
       "      <td>0.0098</td>\n",
       "      <td>0.05655</td>\n",
       "      <td>0.05625</td>\n",
       "      <td>0.08205</td>\n",
       "      <td>0.06975</td>\n",
       "    </tr>\n",
       "    <tr>\n",
       "      <th>2Y</th>\n",
       "      <td>2026-03-05</td>\n",
       "      <td>730</td>\n",
       "      <td>0.0596</td>\n",
       "      <td>0.0150</td>\n",
       "      <td>0.0296</td>\n",
       "      <td>0.0045</td>\n",
       "      <td>0.0122</td>\n",
       "      <td>0.05700</td>\n",
       "      <td>0.05660</td>\n",
       "      <td>0.08660</td>\n",
       "      <td>0.07160</td>\n",
       "    </tr>\n",
       "    <tr>\n",
       "      <th>3Y</th>\n",
       "      <td>2027-03-04</td>\n",
       "      <td>1094</td>\n",
       "      <td>0.0596</td>\n",
       "      <td>0.0162</td>\n",
       "      <td>0.0307</td>\n",
       "      <td>0.0045</td>\n",
       "      <td>0.0134</td>\n",
       "      <td>0.05765</td>\n",
       "      <td>0.05600</td>\n",
       "      <td>0.08835</td>\n",
       "      <td>0.07220</td>\n",
       "    </tr>\n",
       "    <tr>\n",
       "      <th>5Y</th>\n",
       "      <td>2029-03-05</td>\n",
       "      <td>1826</td>\n",
       "      <td>0.0595</td>\n",
       "      <td>0.0167</td>\n",
       "      <td>0.0321</td>\n",
       "      <td>0.0047</td>\n",
       "      <td>0.0138</td>\n",
       "      <td>0.05725</td>\n",
       "      <td>0.05585</td>\n",
       "      <td>0.08935</td>\n",
       "      <td>0.07255</td>\n",
       "    </tr>\n",
       "  </tbody>\n",
       "</table>\n",
       "</div>"
      ],
      "text/plain": [
       "            Date  Days     ATM    25RR    10RR    25BF    10BF      10P  \\\n",
       "Tenor                                                                     \n",
       "ON    2024-03-06     1  0.0403  0.0038  0.0075  0.0012  0.0044  0.04095   \n",
       "1W    2024-03-12     7  0.0452  0.0034  0.0068  0.0013  0.0049  0.04670   \n",
       "2W    2024-03-19    14  0.0479  0.0052  0.0102  0.0015  0.0054  0.04820   \n",
       "1M    2024-04-04    30  0.0497  0.0065  0.0126  0.0015  0.0057  0.04910   \n",
       "2M    2024-05-02    58  0.0526  0.0087  0.0164  0.0017  0.0064  0.05080   \n",
       "3M    2024-06-05    92  0.0534  0.0093  0.0178  0.0021  0.0071  0.05160   \n",
       "6M    2024-09-05   184  0.0567  0.0124  0.0234  0.0027  0.0081  0.05310   \n",
       "9M    2024-12-05   275  0.0589  0.0131  0.0244  0.0033  0.0096  0.05630   \n",
       "1Y    2025-03-05   365  0.0595  0.0135  0.0255  0.0035  0.0098  0.05655   \n",
       "2Y    2026-03-05   730  0.0596  0.0150  0.0296  0.0045  0.0122  0.05700   \n",
       "3Y    2027-03-04  1094  0.0596  0.0162  0.0307  0.0045  0.0134  0.05765   \n",
       "5Y    2029-03-05  1826  0.0595  0.0167  0.0321  0.0047  0.0138  0.05725   \n",
       "\n",
       "           25P      10C      25C  \n",
       "Tenor                             \n",
       "ON     0.03960  0.04845  0.04340  \n",
       "1W     0.04480  0.05350  0.04820  \n",
       "2W     0.04680  0.05840  0.05200  \n",
       "1M     0.04795  0.06170  0.05445  \n",
       "2M     0.04995  0.06720  0.05865  \n",
       "3M     0.05085  0.06940  0.06015  \n",
       "6M     0.05320  0.07650  0.06560  \n",
       "9M     0.05565  0.08070  0.06875  \n",
       "1Y     0.05625  0.08205  0.06975  \n",
       "2Y     0.05660  0.08660  0.07160  \n",
       "3Y     0.05600  0.08835  0.07220  \n",
       "5Y     0.05585  0.08935  0.07255  "
      ]
     },
     "execution_count": 10,
     "metadata": {},
     "output_type": "execute_result"
    }
   ],
   "source": [
    "smile"
   ]
  },
  {
   "cell_type": "code",
   "execution_count": 11,
   "metadata": {},
   "outputs": [],
   "source": [
    "vols = smile.loc['3M', ['ATM', '25P', '25C']]"
   ]
  },
  {
   "cell_type": "code",
   "execution_count": 12,
   "metadata": {},
   "outputs": [],
   "source": [
    "strike_25p = if2.StrikeFromDelta(spot_fwd, prem_incl, -1, -0.25, FXspot, vols['25P'],\n",
    "                            df_pln_T, df_eur_T, T)\n",
    "strike_atm = if2.StrikeFromDelta(spot_fwd, prem_incl, 1, 0.5, FXspot, vols['ATM'],\n",
    "                            df_pln_T, df_eur_T, T)\n",
    "strike_25c = if2.StrikeFromDelta(spot_fwd, prem_incl, 1, 0.25, FXspot, vols['25C'],\n",
    "                            df_pln_T, df_eur_T, T)"
   ]
  },
  {
   "cell_type": "code",
   "execution_count": 13,
   "metadata": {},
   "outputs": [
    {
     "data": {
      "text/plain": [
       "(4.25006108109276, 4.324022443800719, 4.413425557593935)"
      ]
     },
     "execution_count": 13,
     "metadata": {},
     "output_type": "execute_result"
    }
   ],
   "source": [
    "strike_25p, strike_atm, strike_25c"
   ]
  },
  {
   "cell_type": "code",
   "execution_count": 14,
   "metadata": {},
   "outputs": [
    {
     "data": {
      "text/plain": [
       "0.018424558739856156"
      ]
     },
     "execution_count": 14,
     "metadata": {},
     "output_type": "execute_result"
    }
   ],
   "source": [
    "value_25p_bs = if2.BS_value(FXspot, df_eur_T, df_pln_T, T, vols['ATM'], -1, strike_25p, 1)\n",
    "value_25p_bs"
   ]
  },
  {
   "cell_type": "code",
   "execution_count": 15,
   "metadata": {},
   "outputs": [
    {
     "data": {
      "text/plain": [
       "0.045404952721152636"
      ]
     },
     "execution_count": 15,
     "metadata": {},
     "output_type": "execute_result"
    }
   ],
   "source": [
    "value_atm_bs = if2.BS_value(FXspot, df_eur_T, df_pln_T, T, vols['ATM'], 1, strike_atm, 1)\n",
    "value_atm_bs"
   ]
  },
  {
   "cell_type": "code",
   "execution_count": 16,
   "metadata": {},
   "outputs": [
    {
     "data": {
      "text/plain": [
       "0.014641523962009462"
      ]
     },
     "execution_count": 16,
     "metadata": {},
     "output_type": "execute_result"
    }
   ],
   "source": [
    "value_25c_bs = if2.BS_value(FXspot, df_eur_T, df_pln_T, T, vols['ATM'], 1, strike_25c, 1)\n",
    "value_25c_bs"
   ]
  },
  {
   "cell_type": "code",
   "execution_count": 17,
   "metadata": {},
   "outputs": [
    {
     "data": {
      "text/plain": [
       "0.01664990336165606"
      ]
     },
     "execution_count": 17,
     "metadata": {},
     "output_type": "execute_result"
    }
   ],
   "source": [
    "value_25p_iv = if2.BS_value(FXspot, df_eur_T, df_pln_T, T, vols['25P'], -1, strike_25p, 1)\n",
    "value_25p_iv"
   ]
  },
  {
   "cell_type": "code",
   "execution_count": 18,
   "metadata": {},
   "outputs": [
    {
     "data": {
      "text/plain": [
       "0.045404952721152636"
      ]
     },
     "execution_count": 18,
     "metadata": {},
     "output_type": "execute_result"
    }
   ],
   "source": [
    "value_atm_iv = if2.BS_value(FXspot, df_eur_T, df_pln_T, T, vols['ATM'], 1, strike_atm, 1)\n",
    "value_atm_iv"
   ]
  },
  {
   "cell_type": "code",
   "execution_count": 19,
   "metadata": {},
   "outputs": [
    {
     "data": {
      "text/plain": [
       "0.019153404772929816"
      ]
     },
     "execution_count": 19,
     "metadata": {},
     "output_type": "execute_result"
    }
   ],
   "source": [
    "value_25c_iv = if2.BS_value(FXspot, df_eur_T, df_pln_T, T, vols['25C'], 1, strike_25c, 1)\n",
    "value_25c_iv"
   ]
  },
  {
   "cell_type": "code",
   "execution_count": 20,
   "metadata": {},
   "outputs": [],
   "source": [
    "vega_25p = if2.VegaBS(FXspot, vols['25P'], df_pln_T, df_eur_T, strike_25p, T, 1)\n",
    "vega_atm = if2.VegaBS(FXspot, vols['ATM'], df_pln_T, df_eur_T, strike_atm, T, 1)\n",
    "vega_25c = if2.VegaBS(FXspot, vols['25C'], df_pln_T, df_eur_T, strike_25c, T, 1)"
   ]
  },
  {
   "cell_type": "code",
   "execution_count": 21,
   "metadata": {},
   "outputs": [],
   "source": [
    "K = 4.4"
   ]
  },
  {
   "cell_type": "code",
   "execution_count": 22,
   "metadata": {},
   "outputs": [],
   "source": [
    "vega_K = if2.VegaBS(FXspot, vols['ATM'], df_pln_T, df_eur_T, K, T, 1)"
   ]
  },
  {
   "cell_type": "code",
   "execution_count": 23,
   "metadata": {},
   "outputs": [],
   "source": [
    "x1_ = ((np.log(K/strike_atm)) * np.log(K/strike_25c)) / (np.log(strike_25p/strike_atm) * np.log(strike_25p/strike_25c))\n",
    "x2_ = ((np.log(K/strike_25p)) * np.log(K/strike_25c)) / (np.log(strike_atm/strike_25p) * np.log(strike_atm/strike_25c))\n",
    "x3_ = ((np.log(K/strike_25p)) * np.log(K/strike_atm)) / (np.log(strike_25c/strike_25p) * np.log(strike_25c/strike_atm))"
   ]
  },
  {
   "cell_type": "code",
   "execution_count": 24,
   "metadata": {},
   "outputs": [],
   "source": [
    "x1_ = ((np.log(K/strike_atm)) * np.log(K/strike_25c)) / (np.log(strike_25p/strike_atm) * np.log(strike_25p/strike_25c))\n",
    "x2_ = ((np.log(K/strike_25p)) * np.log(K/strike_25c)) / (np.log(strike_atm/strike_25p) * np.log(strike_atm/strike_25c))\n",
    "x3_ = ((np.log(K/strike_25p)) * np.log(K/strike_atm)) / (np.log(strike_25c/strike_25p) * np.log(strike_25c/strike_atm))\n",
    "x1 = vega_K / vega_25p * x1_\n",
    "x2 = vega_K / vega_atm * x2_\n",
    "x3 = vega_K / vega_25c * x3_"
   ]
  },
  {
   "cell_type": "code",
   "execution_count": 25,
   "metadata": {},
   "outputs": [
    {
     "data": {
      "text/plain": [
       "1.0000000000000082"
      ]
     },
     "execution_count": 25,
     "metadata": {},
     "output_type": "execute_result"
    }
   ],
   "source": [
    "x1_ + x2_ + x3_"
   ]
  },
  {
   "cell_type": "code",
   "execution_count": 26,
   "metadata": {},
   "outputs": [],
   "source": [
    "x1_ = ((np.log(K/strike_atm)) * np.log(K/strike_25c)) / (np.log(strike_25p/strike_atm) * np.log(strike_25p/strike_25c))\n",
    "x2_ = ((np.log(K/strike_25p)) * np.log(K/strike_25c)) / (np.log(strike_atm/strike_25p) * np.log(strike_atm/strike_25c))\n",
    "x3_ = ((np.log(K/strike_25p)) * np.log(K/strike_atm)) / (np.log(strike_25c/strike_25p) * np.log(strike_25c/strike_atm))\n",
    "x1 = vega_K / vega_25p * x1_\n",
    "x2 = vega_K / vega_atm * x2_\n",
    "x3 = vega_K / vega_25c * x3_\n",
    "oh = x1 * (value_25p_iv - value_25p_bs) + x2 * (value_atm_iv - value_atm_bs) + x3 * (value_25c_iv - value_25c_bs)"
   ]
  },
  {
   "cell_type": "code",
   "execution_count": 27,
   "metadata": {},
   "outputs": [],
   "source": [
    "value_k_bs = if2.BS_value(FXspot, df_eur_T, df_pln_T, T, vols['ATM'], 1, K, 1)"
   ]
  },
  {
   "cell_type": "code",
   "execution_count": 28,
   "metadata": {},
   "outputs": [],
   "source": [
    "vv_price = value_k_bs + oh"
   ]
  },
  {
   "cell_type": "code",
   "execution_count": 29,
   "metadata": {},
   "outputs": [
    {
     "data": {
      "text/plain": [
       "(0.017749281663331118, 0.003735518417348504, 0.02148480008067962)"
      ]
     },
     "execution_count": 29,
     "metadata": {},
     "output_type": "execute_result"
    }
   ],
   "source": [
    "value_k_bs, oh, vv_price"
   ]
  },
  {
   "cell_type": "code",
   "execution_count": 30,
   "metadata": {},
   "outputs": [
    {
     "data": {
      "text/plain": [
       "0.21046025907999683"
      ]
     },
     "execution_count": 30,
     "metadata": {},
     "output_type": "execute_result"
    }
   ],
   "source": [
    "oh / value_k_bs"
   ]
  },
  {
   "cell_type": "code",
   "execution_count": 31,
   "metadata": {},
   "outputs": [
    {
     "data": {
      "text/plain": [
       "0.058631867830583786"
      ]
     },
     "execution_count": 31,
     "metadata": {},
     "output_type": "execute_result"
    }
   ],
   "source": [
    "if2.ImpVol(vv_price, 1, FXspot, df_pln_T, df_eur_T, K, T)"
   ]
  },
  {
   "cell_type": "code",
   "execution_count": 32,
   "metadata": {},
   "outputs": [],
   "source": [
    "def sigma_vv(K, strike_25p, strike_atm, strike_25c, sigma_25p, sigma_atm, sigma_25c):\n",
    "    x1_ = ((np.log(K/strike_atm)) * np.log(K/strike_25c)) / (np.log(strike_25p/strike_atm) * np.log(strike_25p/strike_25c))\n",
    "    x2_ = ((np.log(K/strike_25p)) * np.log(K/strike_25c)) / (np.log(strike_atm/strike_25p) * np.log(strike_atm/strike_25c))\n",
    "    x3_ = ((np.log(K/strike_25p)) * np.log(K/strike_atm)) / (np.log(strike_25c/strike_25p) * np.log(strike_25c/strike_atm))\n",
    "    return x1_ * sigma_25p + x2_ * sigma_atm + x3_ * sigma_25c"
   ]
  },
  {
   "cell_type": "code",
   "execution_count": 33,
   "metadata": {},
   "outputs": [
    {
     "data": {
      "text/plain": [
       "0.05888902794684169"
      ]
     },
     "execution_count": 33,
     "metadata": {},
     "output_type": "execute_result"
    }
   ],
   "source": [
    "sigma_vv(K, strike_25p, strike_atm, strike_25c, vols['25P'], vols['ATM'], vols['25C'])"
   ]
  },
  {
   "cell_type": "code",
   "execution_count": 34,
   "metadata": {},
   "outputs": [],
   "source": [
    "K = np.linspace(4.2, 4.6, 100)"
   ]
  },
  {
   "cell_type": "code",
   "execution_count": 35,
   "metadata": {},
   "outputs": [],
   "source": [
    "sigmas = sigma_vv(K, strike_25p, strike_atm, strike_25c, vols['25P'], vols['ATM'], vols['25C'])"
   ]
  },
  {
   "cell_type": "code",
   "execution_count": 36,
   "metadata": {},
   "outputs": [
    {
     "data": {
      "image/png": "[encoded data removed]",
      "text/plain": [
       "<Figure size 640x480 with 1 Axes>"
      ]
     },
     "metadata": {},
     "output_type": "display_data"
    }
   ],
   "source": [
    "plt.plot(K, sigmas);"
   ]
  },
  {
   "cell_type": "code",
   "execution_count": 37,
   "metadata": {},
   "outputs": [],
   "source": [
    "deltas = if2.DeltaBS(1, FXspot, sigmas, df_pln_T, df_eur_T, K, T, 1)"
   ]
  },
  {
   "cell_type": "code",
   "execution_count": 38,
   "metadata": {},
   "outputs": [
    {
     "data": {
      "image/png": "[encoded data removed]",
      "text/plain": [
       "<Figure size 640x480 with 1 Axes>"
      ]
     },
     "metadata": {},
     "output_type": "display_data"
    }
   ],
   "source": [
    "plt.plot(deltas, sigmas);"
   ]
  },
  {
   "cell_type": "code",
   "execution_count": 58,
   "metadata": {},
   "outputs": [],
   "source": [
    "def vanna_volga(K, deltas, vols, types, df_pln_T, df_eur_T, T, spot_fwd, prem_incl, vol_ATM=None):\n",
    "    if vol_ATM == None:\n",
    "        vol_ATM = vols[1]\n",
    "        \n",
    "    strike_1 = if2.StrikeFromDelta(spot_fwd, prem_incl, types[0], deltas[0], FXspot, vols[0],\n",
    "                                df_pln_T, df_eur_T, T)\n",
    "    strike_2 = if2.StrikeFromDelta(spot_fwd, prem_incl, types[1], deltas[1], FXspot, vols[1],\n",
    "                                df_pln_T, df_eur_T, T)\n",
    "    strike_3 = if2.StrikeFromDelta(spot_fwd, prem_incl, types[2], deltas[2], FXspot, vols[2],\n",
    "                                df_pln_T, df_eur_T, T)\n",
    "    \n",
    "    vega_1 = if2.VegaBS(FXspot, vols[0], df_pln_T, df_eur_T, strike_1, T, types[0])\n",
    "    vega_2 = if2.VegaBS(FXspot, vols[1], df_pln_T, df_eur_T, strike_2, T, types[1])\n",
    "    vega_3 = if2.VegaBS(FXspot, vols[2], df_pln_T, df_eur_T, strike_3, T, types[2])\n",
    "    vega_K = if2.VegaBS(FXspot, vol_ATM, df_pln_T, df_eur_T, K, T, 1)\n",
    "    \n",
    "    x1_ = ((np.log(K/strike_2)) * np.log(K/strike_3)) / (np.log(strike_1/strike_2) * np.log(strike_1/strike_3))\n",
    "    x2_ = ((np.log(K/strike_1)) * np.log(K/strike_3)) / (np.log(strike_2/strike_1) * np.log(strike_2/strike_3))\n",
    "    x3_ = ((np.log(K/strike_1)) * np.log(K/strike_2)) / (np.log(strike_3/strike_1) * np.log(strike_3/strike_2))\n",
    "    \n",
    "    x1 = vega_K / vega_1 * x1_\n",
    "    x2 = vega_K / vega_2 * x2_\n",
    "    x3 = vega_K / vega_3 * x3_\n",
    "    \n",
    "    value_1_bs = if2.BS_value(FXspot, df_eur_T, df_pln_T, T, vol_ATM, 1, strike_1, 1)\n",
    "    value_2_bs = if2.BS_value(FXspot, df_eur_T, df_pln_T, T, vol_ATM, 1, strike_2, 1)\n",
    "    value_3_bs = if2.BS_value(FXspot, df_eur_T, df_pln_T, T, vol_ATM, 1, strike_3, 1)\n",
    "    value_K_bs = if2.BS_value(FXspot, df_eur_T, df_pln_T, T, vol_ATM, 1, K, 1)\n",
    "\n",
    "    value_1_iv = if2.BS_value(FXspot, df_eur_T, df_pln_T, T, vols[0], 1, strike_1, 1)\n",
    "    value_2_iv = if2.BS_value(FXspot, df_eur_T, df_pln_T, T, vols[1], 1, strike_2, 1)\n",
    "    value_3_iv = if2.BS_value(FXspot, df_eur_T, df_pln_T, T, vols[2], 1, strike_3, 1)\n",
    "\n",
    "    oh = x1 * (value_1_iv - value_1_bs) + x2 * (value_2_iv - value_2_bs) + x3 * (value_3_iv - value_3_bs)\n",
    "    return oh + value_K_bs"
   ]
  },
  {
   "cell_type": "code",
   "execution_count": 61,
   "metadata": {},
   "outputs": [],
   "source": [
    "K = np.linspace(4, 4.6)"
   ]
  },
  {
   "cell_type": "code",
   "execution_count": 62,
   "metadata": {},
   "outputs": [
    {
     "name": "stderr",
     "output_type": "stream",
     "text": [
      "C:\\Users\\unoci\\AppData\\Local\\Temp\\ipykernel_14544\\2667203718.py:3: FutureWarning: Series.__getitem__ treating keys as positions is deprecated. In a future version, integer keys will always be treated as labels (consistent with DataFrame behavior). To access a value by position, use `ser.iloc[pos]`\n",
      "  vol_ATM = vols[1]\n",
      "C:\\Users\\unoci\\AppData\\Local\\Temp\\ipykernel_14544\\2667203718.py:5: FutureWarning: Series.__getitem__ treating keys as positions is deprecated. In a future version, integer keys will always be treated as labels (consistent with DataFrame behavior). To access a value by position, use `ser.iloc[pos]`\n",
      "  strike_1 = if2.StrikeFromDelta(spot_fwd, prem_incl, types[0], deltas[0], FXspot, vols[0],\n",
      "C:\\Users\\unoci\\AppData\\Local\\Temp\\ipykernel_14544\\2667203718.py:7: FutureWarning: Series.__getitem__ treating keys as positions is deprecated. In a future version, integer keys will always be treated as labels (consistent with DataFrame behavior). To access a value by position, use `ser.iloc[pos]`\n",
      "  strike_2 = if2.StrikeFromDelta(spot_fwd, prem_incl, types[1], deltas[1], FXspot, vols[1],\n",
      "C:\\Users\\unoci\\AppData\\Local\\Temp\\ipykernel_14544\\2667203718.py:9: FutureWarning: Series.__getitem__ treating keys as positions is deprecated. In a future version, integer keys will always be treated as labels (consistent with DataFrame behavior). To access a value by position, use `ser.iloc[pos]`\n",
      "  strike_3 = if2.StrikeFromDelta(spot_fwd, prem_incl, types[2], deltas[2], FXspot, vols[2],\n",
      "C:\\Users\\unoci\\AppData\\Local\\Temp\\ipykernel_14544\\2667203718.py:12: FutureWarning: Series.__getitem__ treating keys as positions is deprecated. In a future version, integer keys will always be treated as labels (consistent with DataFrame behavior). To access a value by position, use `ser.iloc[pos]`\n",
      "  vega_1 = if2.VegaBS(FXspot, vols[0], df_pln_T, df_eur_T, strike_1, T, types[0])\n",
      "C:\\Users\\unoci\\AppData\\Local\\Temp\\ipykernel_14544\\2667203718.py:13: FutureWarning: Series.__getitem__ treating keys as positions is deprecated. In a future version, integer keys will always be treated as labels (consistent with DataFrame behavior). To access a value by position, use `ser.iloc[pos]`\n",
      "  vega_2 = if2.VegaBS(FXspot, vols[1], df_pln_T, df_eur_T, strike_2, T, types[1])\n",
      "C:\\Users\\unoci\\AppData\\Local\\Temp\\ipykernel_14544\\2667203718.py:14: FutureWarning: Series.__getitem__ treating keys as positions is deprecated. In a future version, integer keys will always be treated as labels (consistent with DataFrame behavior). To access a value by position, use `ser.iloc[pos]`\n",
      "  vega_3 = if2.VegaBS(FXspot, vols[2], df_pln_T, df_eur_T, strike_3, T, types[2])\n",
      "C:\\Users\\unoci\\AppData\\Local\\Temp\\ipykernel_14544\\2667203718.py:30: FutureWarning: Series.__getitem__ treating keys as positions is deprecated. In a future version, integer keys will always be treated as labels (consistent with DataFrame behavior). To access a value by position, use `ser.iloc[pos]`\n",
      "  value_1_iv = if2.BS_value(FXspot, df_eur_T, df_pln_T, T, vols[0], 1, strike_1, 1)\n",
      "C:\\Users\\unoci\\AppData\\Local\\Temp\\ipykernel_14544\\2667203718.py:31: FutureWarning: Series.__getitem__ treating keys as positions is deprecated. In a future version, integer keys will always be treated as labels (consistent with DataFrame behavior). To access a value by position, use `ser.iloc[pos]`\n",
      "  value_2_iv = if2.BS_value(FXspot, df_eur_T, df_pln_T, T, vols[1], 1, strike_2, 1)\n",
      "C:\\Users\\unoci\\AppData\\Local\\Temp\\ipykernel_14544\\2667203718.py:32: FutureWarning: Series.__getitem__ treating keys as positions is deprecated. In a future version, integer keys will always be treated as labels (consistent with DataFrame behavior). To access a value by position, use `ser.iloc[pos]`\n",
      "  value_3_iv = if2.BS_value(FXspot, df_eur_T, df_pln_T, T, vols[2], 1, strike_3, 1)\n"
     ]
    }
   ],
   "source": [
    "values = [vanna_volga(k, [-0.25, 0.5, 0.25], vols, [-1, 1, 1], df_pln_T, df_eur_T, T, spot_fwd, prem_incl, vol_ATM=None) for k in K]"
   ]
  },
  {
   "cell_type": "code",
   "execution_count": 63,
   "metadata": {},
   "outputs": [
    {
     "data": {
      "text/plain": [
       "[<matplotlib.lines.Line2D at 0x290966bd650>]"
      ]
     },
     "execution_count": 63,
     "metadata": {},
     "output_type": "execute_result"
    },
    {
     "data": {
      "image/png": "[encoded data removed]",
      "text/plain": [
       "<Figure size 640x480 with 1 Axes>"
      ]
     },
     "metadata": {},
     "output_type": "display_data"
    }
   ],
   "source": [
    "plt.plot(K, values)"
   ]
  },
  {
   "cell_type": "code",
   "execution_count": null,
   "metadata": {},
   "outputs": [],
   "source": []
  }
 ],
 "metadata": {
  "kernelspec": {
   "display_name": "Python 3",
   "language": "python",
   "name": "python3"
  },
  "language_info": {
   "codemirror_mode": {
    "name": "ipython",
    "version": 3
   },
   "file_extension": ".py",
   "mimetype": "text/x-python",
   "name": "python",
   "nbconvert_exporter": "python",
   "pygments_lexer": "ipython3",
   "version": "3.11.1"
  }
 },
 "nbformat": 4,
 "nbformat_minor": 2
}
